{
 "cells": [
  {
   "cell_type": "code",
   "execution_count": 2,
   "metadata": {},
   "outputs": [],
   "source": [
    "# 引包\n",
    "import numpy as np\n",
    "import math"
   ]
  },
  {
   "cell_type": "code",
   "execution_count": 3,
   "metadata": {},
   "outputs": [],
   "source": [
    "# 激活函数定义\n",
    "def tanh(x):\n",
    "    return np.tanh(x)\n",
    "def softmax(x):\n",
    "    exp = np.exp(x - x.max())\n",
    "    return exp / exp.sum()"
   ]
  },
  {
   "cell_type": "code",
   "execution_count": 4,
   "metadata": {},
   "outputs": [],
   "source": [
    "# 定义卷积信息，第一层是784个神经元，第二层10个神经元，为了示范结构简单，所以没有隐藏层\n",
    "dimensions = [28 * 28, 10]\n",
    "# 定义第一层的激活函数是tanh，第二层的激活函数是softmax\n",
    "activation = [tanh, softmax]\n",
    "# 定义每层初始化的b、w值范围，示范结构比较简单，第一层没有w\n",
    "distribution = [\n",
    "    {'b': [0, 0]},\n",
    "    {'b': [0, 0], 'w': [-math.sqrt(6 / (dimensions[0] + dimensions[1])),\n",
    "                        math.sqrt(6 / (dimensions[0] + dimensions[1]))]}\n",
    "]"
   ]
  },
  {
   "cell_type": "code",
   "execution_count": 5,
   "metadata": {},
   "outputs": [],
   "source": [
    "# 用随机数初始化layer层的b参数\n",
    "def init_parameters_b(layer):\n",
    "    dist = distribution[layer]['b']\n",
    "    return np.random.rand(dimensions[layer]) * (dist[1] - dist[0]) + dist[0]\n",
    "# 用随机数初始化layer层的w参数\n",
    "def init_parameters_w(layer):\n",
    "    dist = distribution[layer]['w']\n",
    "    return np.random.rand(dimensions[layer - 1], dimensions[layer]) * (dist[1] - dist[0]) + dist[0]\n",
    "# 总的初始化函数，调用之后初始化所有层\n",
    "def init_parameters():\n",
    "    parameter = []\n",
    "    # 循环遍历每层并初始化\n",
    "    for i in range(len(distribution)):\n",
    "        layer_parameter = {}\n",
    "        for j in distribution[i].keys():\n",
    "            if j == 'b':\n",
    "                layer_parameter['b'] = init_parameters_b(i)\n",
    "                continue\n",
    "            if j == 'w':\n",
    "                layer_parameter['w'] = init_parameters_w(i)\n",
    "                continue\n",
    "        parameter.append(layer_parameter)\n",
    "    return parameter"
   ]
  },
  {
   "cell_type": "code",
   "execution_count": 7,
   "metadata": {},
   "outputs": [],
   "source": [
    "# 初始化步骤\n",
    "parameters = init_parameters()"
   ]
  },
  {
   "cell_type": "code",
   "execution_count": 8,
   "metadata": {},
   "outputs": [],
   "source": [
    "# 先写了个预测函数\n",
    "def predict(img, parameters):\n",
    "    # 第1层（此处口头上说的层数是变量层数+1）的输入是图像像素（扁平化的28*28）加上第1层的b\n",
    "    l0_in = img + parameters[0]['b']\n",
    "    # 第一层的输出是第一层的输入作为参数传给第一层的激活函数之后的结果\n",
    "    l0_out = activation[0](l0_in)\n",
    "    # 第二层（输出层）的输入等于第一层的输出点乘第二层的w加上第二层的b\n",
    "    l1_in = np.dot(l0_out, parameters[1]['w']) + parameters[1]['b']\n",
    "    # 第二层的输出等于第二层的输入传给第二层的激活函数\n",
    "    l1_out = activation[1](l1_in)\n",
    "    return l1_out"
   ]
  },
  {
   "cell_type": "code",
   "execution_count": 9,
   "metadata": {},
   "outputs": [
    {
     "data": {
      "text/plain": [
       "9"
      ]
     },
     "execution_count": 9,
     "metadata": {},
     "output_type": "execute_result"
    }
   ],
   "source": [
    "predict(np.random.rand(784), parameters).argmax()"
   ]
  },
  {
   "cell_type": "code",
   "execution_count": 10,
   "metadata": {},
   "outputs": [],
   "source": [
    "# 引入pathlib库做路径处理\n",
    "from pathlib import Path"
   ]
  },
  {
   "cell_type": "code",
   "execution_count": 11,
   "metadata": {},
   "outputs": [],
   "source": [
    "# 各类数据路径\n",
    "dataset_path = Path(\"./MNIST\")\n",
    "train_img_path = dataset_path / 'train-images.idx3-ubyte'\n",
    "train_lab_path = dataset_path / 'train-labels.idx1-ubyte'\n",
    "test_img_path = dataset_path / 't10k-images.idx3-ubyte'\n",
    "test_lab_path = dataset_path / 't10k-labels.idx1-ubyte'"
   ]
  },
  {
   "cell_type": "code",
   "execution_count": 12,
   "metadata": {},
   "outputs": [],
   "source": [
    "# 划分训练集、测试集、验证集大小\n",
    "train_num = 50000\n",
    "valid_num = 10000\n",
    "test_num = 10000\n",
    "\n",
    "# import struct\n",
    "# 各种读入\n",
    "with open(train_img_path, 'rb') as trainf:\n",
    "    # print(struct.unpack('>4i', trainf.read(16)))\n",
    "    trainf.read(16)\n",
    "    tmp_img = np.fromfile(trainf, dtype=np.uint8).reshape(-1, 28 * 28) / 255\n",
    "    train_img = tmp_img[:train_num]\n",
    "    valid_img = tmp_img[train_num:]\n",
    "\n",
    "with open(test_img_path, 'rb') as testf:\n",
    "    # print(struct.unpack('>4i', trainf.read(16)))\n",
    "    testf.read(16)\n",
    "    test_img = np.fromfile(testf, dtype=np.uint8).reshape(-1, 28 * 28) / 255\n",
    "with open(train_lab_path, 'rb') as trainlabf:\n",
    "    trainlabf.read(8)\n",
    "    tmp_lab = np.fromfile(trainlabf, dtype=np.uint8)\n",
    "    train_lab = tmp_lab[:train_num]\n",
    "    valid_lab = tmp_lab[train_num:]\n",
    "with open(test_lab_path, 'rb') as testlabf:\n",
    "    testlabf.read(8)\n",
    "    test_lab = np.fromfile(testlabf, dtype=np.uint8)"
   ]
  },
  {
   "cell_type": "code",
   "execution_count": 13,
   "metadata": {},
   "outputs": [],
   "source": [
    "import matplotlib.pyplot as plt\n",
    "# 显示标签和图片\n",
    "def show_train(index):\n",
    "    plt.imshow(train_img[index].reshape(28, 28), cmap='gray')\n",
    "    print(f'label: {train_lab[index]}')\n",
    "def show_test(index):\n",
    "    plt.imshow(test_img[index].reshape(28, 28), cmap='gray')\n",
    "    print(f'label: {test_lab[index]}')\n",
    "def show_valid(index):\n",
    "    plt.imshow(valid_img[index].reshape(28, 28), cmap='gray')\n",
    "    print(f'label: {valid_lab[index]}')"
   ]
  },
  {
   "cell_type": "code",
   "execution_count": 14,
   "metadata": {},
   "outputs": [
    {
     "name": "stdout",
     "output_type": "stream",
     "text": [
      "label: 3\n"
     ]
    },
    {
     "data": {
      "image/png": "[encoded data removed]",
      "text/plain": [
       "<Figure size 432x288 with 1 Axes>"
      ]
     },
     "metadata": {
      "needs_background": "light"
     },
     "output_type": "display_data"
    }
   ],
   "source": [
    "show_train(np.random.randint(train_num))"
   ]
  },
  {
   "cell_type": "code",
   "execution_count": 15,
   "metadata": {},
   "outputs": [
    {
     "name": "stdout",
     "output_type": "stream",
     "text": [
      "label: 9\n"
     ]
    },
    {
     "data": {
      "image/png": "[encoded data removed]",
      "text/plain": [
       "<Figure size 432x288 with 1 Axes>"
      ]
     },
     "metadata": {
      "needs_background": "light"
     },
     "output_type": "display_data"
    }
   ],
   "source": [
    "show_valid(np.random.randint(valid_num))"
   ]
  },
  {
   "cell_type": "code",
   "execution_count": 16,
   "metadata": {},
   "outputs": [
    {
     "name": "stdout",
     "output_type": "stream",
     "text": [
      "label: 1\n"
     ]
    },
    {
     "data": {
      "image/png": "[encoded data removed]",
      "text/plain": [
       "<Figure size 432x288 with 1 Axes>"
      ]
     },
     "metadata": {
      "needs_background": "light"
     },
     "output_type": "display_data"
    }
   ],
   "source": [
    "show_test(np.random.randint(test_num))"
   ]
  },
  {
   "cell_type": "code",
   "execution_count": 17,
   "metadata": {},
   "outputs": [],
   "source": [
    "# 激活函数的求导\n",
    "def d_softmax(data):\n",
    "    sm = softmax(data)\n",
    "    return np.diag(sm) - np.outer(sm, sm)\n",
    "# def d_tanh(data):\n",
    "#     return np.diag(1 / (np.cosh(data)) ** 2)\n",
    "def d_tanh(data):\n",
    "    return 1 / (np.cosh(data)) ** 2"
   ]
  },
  {
   "cell_type": "code",
   "execution_count": 20,
   "metadata": {},
   "outputs": [
    {
     "name": "stdout",
     "output_type": "stream",
     "text": [
      "[ 0.23311928 -0.08555484 -0.0687699  -0.07879454]\n",
      "[[ 0.23311625 -0.08555373 -0.068769   -0.07879352]\n",
      " [-0.08555373  0.17773969 -0.0429617  -0.04922426]\n",
      " [-0.068769   -0.0429617   0.15129769 -0.03956699]\n",
      " [-0.07879352 -0.04922426 -0.03956699  0.16758478]]\n",
      "[-0.03507643  0.15099317 -0.04776964 -0.0681471 ]\n",
      "[[ 0.1534342  -0.03507532 -0.04877605 -0.06958282]\n",
      " [-0.03507532  0.15098842 -0.04776814 -0.06814496]\n",
      " [-0.04877605 -0.04776814  0.19130716 -0.09476297]\n",
      " [-0.06958282 -0.06814496 -0.09476297  0.23249076]]\n",
      "[-0.06885788 -0.05084157  0.15177244 -0.03207299]\n",
      "[[ 0.23285    -0.10055805 -0.06885572 -0.06343623]\n",
      " [-0.10055805  0.19823648 -0.05083997 -0.04683846]\n",
      " [-0.06885572 -0.05083997  0.15176768 -0.03207198]\n",
      " [-0.06343623 -0.04683846 -0.03207198  0.14234667]]\n",
      "[-0.06709875 -0.05315458 -0.09390611  0.21415944]\n",
      "[[ 0.16932948 -0.0369514  -0.06528059 -0.06709748]\n",
      " [-0.0369514   0.14181923 -0.05171426 -0.05315357]\n",
      " [-0.06528059 -0.05171426  0.21089919 -0.09390434]\n",
      " [-0.06709748 -0.05315357 -0.09390434  0.21415539]]\n"
     ]
    }
   ],
   "source": [
    "# 用导数定义检验softmax的对角矩阵/张量外积结果的第一行等于求导结果\n",
    "h = 0.0001\n",
    "func = softmax\n",
    "input_len = 4\n",
    "differential = {softmax: d_softmax, tanh: d_tanh}\n",
    "for i in range(input_len):\n",
    "    test_input = np.random.rand(input_len)\n",
    "    derivative = differential[func](test_input)\n",
    "    value1 = func(test_input)\n",
    "    test_input[i] += h\n",
    "    value2 = func(test_input)\n",
    "    print((value2 - value1) / h)\n",
    "    print(derivative)"
   ]
  },
  {
   "cell_type": "code",
   "execution_count": 21,
   "metadata": {},
   "outputs": [],
   "source": [
    "# 将dimensions[-1]（输出层大小）转化成独热模式\n",
    "onehot = np.identity(dimensions[-1])"
   ]
  },
  {
   "cell_type": "code",
   "execution_count": 22,
   "metadata": {},
   "outputs": [],
   "source": [
    "# 计算损失\n",
    "def sqr_loss(img, lab, parameters):\n",
    "    # 先预测\n",
    "    y_pred = predict(img, parameters)\n",
    "    # y = 当前标签的独热模式值\n",
    "    y = onehot[lab]\n",
    "    diff = y - y_pred\n",
    "    return np.dot(diff, diff)"
   ]
  },
  {
   "cell_type": "code",
   "execution_count": 23,
   "metadata": {},
   "outputs": [
    {
     "data": {
      "text/plain": [
       "0.9021331583651757"
      ]
     },
     "execution_count": 23,
     "metadata": {},
     "output_type": "execute_result"
    }
   ],
   "source": [
    "sqr_loss(train_img[0], train_lab[0], parameters)"
   ]
  },
  {
   "cell_type": "code",
   "execution_count": 24,
   "metadata": {},
   "outputs": [],
   "source": [
    "# 求每层每个参数的梯度\n",
    "def grad_parameters(img, lab, parameters):\n",
    "    l0_in = img + parameters[0]['b']\n",
    "    l0_out = activation[0](l0_in)\n",
    "    l1_in = np.dot(l0_out, parameters[1]['w']) + parameters[1]['b']\n",
    "    l1_out = activation[1](l1_in)\n",
    "    \n",
    "    diff = onehot[lab] - l1_out\n",
    "    act1 = np.dot(differential[activation[1]](l1_in), diff)\n",
    "    grad_b1 = -2 * act1\n",
    "    grad_w1 = -2 * np.outer(l0_out, act1)\n",
    "    grad_b0 = -2 * differential[activation[0]](l0_in) * np.dot(parameters[1]['w'], act1)\n",
    "    \n",
    "    return {'w1': grad_w1, 'b1': grad_b1, 'b0': grad_b0}"
   ]
  },
  {
   "cell_type": "code",
   "execution_count": 25,
   "metadata": {},
   "outputs": [
    {
     "data": {
      "text/plain": [
       "{'w1': array([[0., 0., 0., ..., 0., 0., 0.],\n",
       "        [0., 0., 0., ..., 0., 0., 0.],\n",
       "        [0., 0., 0., ..., 0., 0., 0.],\n",
       "        ...,\n",
       "        [0., 0., 0., ..., 0., 0., 0.],\n",
       "        [0., 0., 0., ..., 0., 0., 0.],\n",
       "        [0., 0., 0., ..., 0., 0., 0.]]),\n",
       " 'b1': array([ 0.00683127,  0.01178653,  0.00591685,  0.02354954, -0.14480007,\n",
       "         0.01025501,  0.00825451,  0.05173024,  0.00975119,  0.01672494]),\n",
       " 'b0': array([ 1.48248217e-02, -5.01333223e-03,  3.51116045e-03,  1.54247154e-02,\n",
       "         1.34160573e-02,  4.19725615e-03,  6.49402746e-03,  4.84681550e-04,\n",
       "         5.75444762e-03, -4.50209280e-03, -1.43717193e-02,  6.17454787e-03,\n",
       "         9.72148868e-03,  7.90844471e-03, -4.14725256e-03, -2.29414794e-03,\n",
       "        -7.14228900e-03, -1.20999974e-02, -4.44254112e-03,  3.79784818e-03,\n",
       "         1.29191657e-03,  1.29251236e-03, -1.39319667e-03, -7.21671985e-04,\n",
       "        -1.47883746e-03,  6.04986773e-03, -4.27986777e-03,  2.65543833e-03,\n",
       "         2.64362661e-03, -3.55207429e-05,  5.15793042e-03, -5.45264856e-03,\n",
       "        -7.78961961e-03,  8.34799229e-03,  4.87940565e-03,  1.06216014e-03,\n",
       "         5.72735627e-03,  3.16592734e-03,  5.72580476e-03,  1.35373746e-02,\n",
       "         1.98865461e-03,  2.46196188e-03, -9.97822088e-03, -7.44144301e-03,\n",
       "         6.12715963e-03, -1.17484110e-02,  1.98231223e-03, -1.56215946e-02,\n",
       "        -1.89578408e-04,  2.87891919e-03,  6.66366972e-03,  5.37789047e-03,\n",
       "        -1.55477614e-02,  1.23874345e-03, -1.17614075e-04, -1.02352762e-02,\n",
       "        -1.11338506e-02, -8.93229830e-03,  8.05925555e-03, -3.08021615e-04,\n",
       "         6.16149080e-03,  4.06086246e-05, -6.18987884e-03,  9.56959971e-03,\n",
       "        -1.18953554e-02,  3.73863515e-03,  1.23822660e-02,  2.90229862e-03,\n",
       "        -5.54008168e-03,  1.11344520e-03, -3.63113278e-03, -1.45374295e-03,\n",
       "        -1.05743155e-02, -5.18127677e-03,  1.38083767e-02,  1.20203393e-02,\n",
       "        -5.23814920e-03, -5.64915050e-03, -6.25151653e-03,  9.41016230e-03,\n",
       "         4.49101800e-03,  8.46565231e-03,  7.72717784e-03, -3.31158123e-03,\n",
       "         7.29386243e-03, -9.47994180e-04,  9.69091976e-03, -6.81325963e-03,\n",
       "        -3.92249772e-03, -7.40742816e-03,  8.15362825e-03, -8.79242674e-03,\n",
       "         7.00322197e-03,  1.01038601e-02, -1.07268986e-02,  5.28747555e-03,\n",
       "         1.20405834e-02, -6.64697495e-03, -2.56843832e-03,  1.85304362e-03,\n",
       "        -1.48147779e-02, -1.11319052e-02,  1.78841244e-03, -4.13533238e-03,\n",
       "         6.03759495e-03,  1.15999458e-02,  7.14459516e-03, -4.56632437e-03,\n",
       "         3.52962302e-04,  6.99546406e-03,  6.88703898e-03, -5.65172774e-03,\n",
       "         1.12156065e-02, -4.48373724e-03, -1.11539021e-02, -2.85615364e-03,\n",
       "        -7.60842657e-03,  6.72319097e-04,  6.80848828e-03, -2.22632509e-03,\n",
       "        -8.71005226e-03, -5.89615389e-03,  9.32394618e-03,  1.18036423e-02,\n",
       "         4.23690800e-03, -1.17800628e-02, -8.28964177e-03,  1.49519013e-02,\n",
       "         3.58314298e-03, -3.46905833e-03,  6.09655188e-03,  1.72148616e-03,\n",
       "        -3.12015593e-03, -4.10699732e-03,  2.60132784e-03,  7.13909179e-04,\n",
       "         3.66564039e-03,  6.90783085e-03, -3.92758110e-03, -4.43698900e-03,\n",
       "        -7.33791794e-03,  3.40925133e-04, -1.17708561e-02, -4.47950140e-03,\n",
       "        -1.05748287e-02, -6.56875991e-03,  9.75743021e-03,  6.05549367e-03,\n",
       "         1.13569839e-02,  2.90971048e-03,  1.00763117e-03,  2.71114649e-03,\n",
       "        -1.09847728e-02,  2.62600433e-03,  6.39624032e-04, -6.99056087e-03,\n",
       "         4.30761548e-03, -1.17469038e-02,  8.35290717e-03, -9.69046777e-03,\n",
       "        -3.72891592e-03, -4.83424320e-03,  5.11993217e-03,  2.28850447e-03,\n",
       "        -1.36084637e-02,  3.30371915e-03,  2.17707604e-03, -5.80137109e-03,\n",
       "         1.21210479e-02, -1.09386834e-02, -3.32185306e-03,  1.39945947e-02,\n",
       "         1.08603218e-02, -3.46562908e-03,  1.37344383e-02, -1.49711213e-03,\n",
       "        -8.14327659e-03, -9.34759491e-03,  5.73608636e-03,  3.75152485e-03,\n",
       "        -6.37383938e-03,  1.06472731e-02, -1.72888447e-02,  9.73136805e-03,\n",
       "        -1.06862225e-02, -9.37476238e-03,  1.24847699e-02, -9.63174131e-03,\n",
       "         9.03990863e-03, -7.25259353e-03, -1.65483791e-03, -2.28733871e-03,\n",
       "         5.38496864e-04,  9.52785400e-03,  9.53992659e-03, -1.11991384e-02,\n",
       "         1.23193764e-02,  8.32570166e-03, -1.19123913e-02,  7.65779518e-03,\n",
       "         4.56415876e-03, -5.82378584e-03,  3.64992255e-03, -3.05526983e-03,\n",
       "         7.16939866e-04,  1.43310424e-03, -5.74403760e-03, -5.08704630e-03,\n",
       "         3.44199252e-03, -2.53222498e-03,  1.19264843e-02,  6.22234476e-03,\n",
       "        -1.89194248e-03,  1.01580960e-02,  1.15717676e-02, -4.81303329e-03,\n",
       "         8.73617665e-03, -2.04778017e-04, -6.94276304e-04,  1.60551311e-02,\n",
       "         6.41822441e-03, -5.40241060e-04, -5.10336517e-03, -8.40157205e-03,\n",
       "        -6.48155009e-03, -1.01797104e-02, -5.55162562e-03, -1.21623452e-03,\n",
       "         2.70838589e-03,  3.58210901e-03, -1.13779963e-02, -5.10709047e-03,\n",
       "        -1.14462864e-02,  9.58338864e-03,  8.93816582e-04, -6.30138246e-03,\n",
       "        -4.72685038e-03,  1.11911213e-02,  7.42857663e-03, -1.37110068e-02,\n",
       "         9.59522840e-03, -1.35099364e-02,  5.94630839e-03,  5.93818071e-03,\n",
       "         6.22217265e-04,  4.87760040e-03, -4.62897337e-03, -6.19214644e-03,\n",
       "         4.65173759e-03, -8.32227504e-03, -3.04411095e-03,  6.42449369e-03,\n",
       "        -1.17756821e-02, -1.18903947e-02, -1.47823747e-02,  1.23763204e-02,\n",
       "         2.10413342e-03,  5.75848137e-03,  5.09811936e-03,  1.09574069e-02,\n",
       "         1.33503989e-02,  9.01938619e-04, -1.71921762e-02,  5.09070904e-03,\n",
       "        -4.80597516e-04, -1.08691638e-02,  1.08105740e-02, -1.23179434e-02,\n",
       "         1.03278072e-02,  3.95244037e-03, -2.58650516e-03,  7.13881473e-04,\n",
       "        -3.63194449e-03,  6.09150026e-03, -8.05471512e-04, -3.70103117e-03,\n",
       "        -3.31735897e-04, -7.01928163e-05,  4.66530080e-03, -5.21166652e-03,\n",
       "        -1.49712864e-02, -1.11220942e-02,  2.85117692e-04, -1.16883986e-02,\n",
       "         3.44553666e-03,  2.86524456e-03, -1.05541497e-02,  2.98862649e-03,\n",
       "         6.99912322e-03, -2.45223435e-03,  3.69930235e-03, -3.96360903e-03,\n",
       "        -3.52119953e-03, -8.12760902e-03,  9.16726352e-04, -5.11108653e-03,\n",
       "         1.45691070e-02, -1.06320489e-03, -1.68369318e-03,  8.38304086e-03,\n",
       "         6.57301748e-03,  6.75454271e-03, -1.51172467e-02, -2.05546155e-04,\n",
       "        -4.89195731e-03, -4.74106933e-03,  1.85569951e-03, -5.61474811e-04,\n",
       "         1.19315763e-02, -1.21106982e-02, -3.60951259e-03,  8.01709504e-03,\n",
       "        -5.18065906e-03,  2.49196542e-03, -7.03888105e-03,  1.11683786e-02,\n",
       "        -1.78640729e-03, -6.71018462e-03, -4.76089485e-03,  6.76625352e-03,\n",
       "        -9.65156182e-04,  1.76004018e-03, -6.88392941e-03, -1.13236287e-02,\n",
       "        -9.25347844e-03, -8.25284243e-05, -6.21803760e-03, -5.62284189e-03,\n",
       "         1.10522145e-03, -5.09549972e-03,  1.57028029e-03, -8.86573777e-03,\n",
       "         2.71928885e-04, -7.64594241e-03,  2.16249053e-03, -7.97380800e-03,\n",
       "        -4.86353780e-03, -1.05089209e-02,  9.64009255e-03, -3.77324060e-04,\n",
       "        -2.10198112e-03,  3.04472437e-03,  1.41602496e-02,  6.72531717e-03,\n",
       "         5.08159487e-03,  3.97186628e-03,  1.28517189e-02, -1.81059243e-03,\n",
       "        -1.52674795e-04, -5.08891105e-03, -1.27368653e-02, -3.64637049e-03,\n",
       "         1.28797092e-03,  6.68282892e-03, -7.76057459e-03,  1.62943056e-03,\n",
       "        -4.94591075e-03, -3.79627228e-03,  1.25341082e-02,  1.19943335e-03,\n",
       "         9.32190320e-03, -5.14801012e-03, -2.21737057e-03, -1.12759888e-02,\n",
       "         1.42560913e-02,  1.34408557e-02, -3.93746595e-03, -1.78771480e-03,\n",
       "        -2.27058574e-03,  1.51896335e-03,  1.03926311e-02, -3.64230315e-03,\n",
       "         1.02648828e-02, -1.41382151e-02, -6.24435303e-03,  1.41324913e-02,\n",
       "        -4.42496725e-03, -8.34939008e-04,  4.72619291e-03, -1.22946388e-02,\n",
       "        -8.17614072e-03,  3.89117983e-03,  2.45675770e-03,  1.62820498e-03,\n",
       "        -3.86113701e-03, -3.52421218e-03, -7.54912120e-03,  1.02479198e-02,\n",
       "         2.49881639e-03,  7.23283724e-03,  1.11854897e-02,  1.33385799e-03,\n",
       "         1.10073710e-02,  5.45048961e-03, -4.28426405e-03, -2.05060254e-03,\n",
       "         5.10897721e-03, -4.47851197e-03, -1.32315892e-02, -1.51915555e-03,\n",
       "        -8.45982915e-03,  2.65124353e-03,  8.36956802e-03,  1.05692870e-04,\n",
       "        -2.32685115e-04, -9.94183301e-04,  3.72765203e-03,  3.02243494e-03,\n",
       "        -2.25727357e-04, -5.33725533e-03, -3.30623103e-03,  2.15522481e-03,\n",
       "        -4.35147106e-03,  8.89231493e-03,  9.43386531e-03, -7.34105998e-03,\n",
       "         7.04615374e-03,  1.38242156e-02, -6.76189222e-03,  3.52380677e-03,\n",
       "         4.83375355e-03, -1.12927986e-02,  4.21732877e-03,  7.01311000e-03,\n",
       "         3.59891617e-03, -6.20995120e-04, -2.84351540e-03,  5.35853906e-03,\n",
       "        -7.01656340e-04, -8.96609400e-04,  1.30656529e-03, -1.86795863e-03,\n",
       "         3.55926528e-04, -1.66269528e-03,  1.25958341e-03, -3.73255429e-03,\n",
       "        -1.10843266e-02,  8.10815279e-03, -1.69531898e-03,  1.50749908e-03,\n",
       "         1.19878389e-03, -6.97763224e-03, -3.90151607e-03, -6.28132474e-03,\n",
       "        -1.17577738e-02, -5.30030753e-03, -1.45529344e-02,  1.06214191e-02,\n",
       "         1.23154107e-02,  4.09276206e-03,  4.91295912e-03, -2.05203566e-03,\n",
       "        -3.44564686e-03,  4.75780187e-03, -2.02256457e-03, -6.99199534e-03,\n",
       "         4.51078286e-03, -8.50797965e-03,  3.59416080e-03,  8.02864704e-03,\n",
       "        -1.21428063e-02, -6.43837338e-04, -1.33770067e-02, -1.26204705e-02,\n",
       "         1.16677231e-03,  5.07974154e-04, -2.57456661e-03, -1.04808124e-04,\n",
       "        -1.06486618e-02, -1.22862518e-02,  3.21381894e-03,  9.75871469e-03,\n",
       "        -5.26169729e-03, -1.38067656e-02,  3.21587781e-03, -5.20619121e-03,\n",
       "         4.47137500e-03, -3.87699610e-04,  1.91628932e-03,  5.34062909e-03,\n",
       "        -4.25188545e-03,  2.01430305e-03,  8.34926528e-03, -1.18490696e-02,\n",
       "        -2.90666793e-03,  2.18553316e-03,  7.43557703e-03, -1.61959306e-02,\n",
       "         1.10580553e-02,  1.26377759e-02,  8.86616918e-03,  9.84396840e-03,\n",
       "        -9.99162723e-03,  9.79617411e-03, -3.39831223e-03,  3.22693134e-03,\n",
       "        -1.46793331e-03, -1.37060096e-02, -1.26394610e-02, -3.53340567e-03,\n",
       "        -8.68853539e-03,  2.56980660e-03,  4.19347989e-04,  1.05465681e-02,\n",
       "        -9.26686469e-04,  3.03846651e-03,  8.94513125e-03, -5.18195720e-03,\n",
       "         8.38029622e-03,  7.93925711e-03, -2.18955600e-03, -7.32130831e-04,\n",
       "         4.03963323e-03,  1.52334985e-02,  1.95287456e-03,  4.15162224e-04,\n",
       "         2.77154838e-03,  9.01460015e-03, -8.47298053e-03,  5.09519061e-03,\n",
       "         9.83562350e-03, -2.24766413e-03,  3.36803313e-03,  9.15644650e-03,\n",
       "        -1.12522454e-02,  1.16141635e-03, -5.53888489e-03, -7.67634957e-03,\n",
       "        -6.91360545e-03,  4.35601217e-03, -2.07468116e-03,  4.12553886e-03,\n",
       "         9.36382597e-03, -6.29882635e-03, -4.67612322e-03, -8.17888737e-03,\n",
       "         3.61359788e-03, -3.87755775e-04,  2.31311179e-03,  2.64272472e-04,\n",
       "        -1.07724200e-02, -1.35168835e-05,  1.30642687e-02,  1.66993675e-02,\n",
       "         1.67396491e-03,  9.55758338e-03,  1.65810603e-03,  1.03421969e-02,\n",
       "         4.95573451e-03,  4.74891867e-04,  2.30876313e-04,  4.76520225e-03,\n",
       "         3.50551360e-03,  1.00627323e-02,  5.60158780e-03,  1.01530676e-02,\n",
       "         5.99593908e-03, -4.27354842e-03, -1.23760271e-02,  9.74298757e-03,\n",
       "        -9.16245884e-03,  2.05453719e-04,  1.31440932e-02, -1.11235897e-02,\n",
       "        -3.81425854e-03, -2.67629317e-03, -1.31338509e-02,  6.70638696e-03,\n",
       "        -1.19283903e-02, -7.18198461e-03,  6.55934909e-03,  9.87457471e-03,\n",
       "         9.47341191e-04,  8.14599490e-03,  9.98535436e-03, -8.59860362e-04,\n",
       "        -8.60944734e-03,  8.80764294e-03, -2.99515363e-03, -6.50297842e-03,\n",
       "         8.19334507e-03,  2.86362178e-04,  8.85320941e-04, -7.39702658e-04,\n",
       "        -1.59178540e-03, -9.18815471e-03,  7.98671364e-04, -7.25851610e-03,\n",
       "        -9.37385794e-03,  5.40678220e-04,  2.75310476e-03, -2.36927888e-03,\n",
       "         2.00445966e-03, -4.33216877e-03, -1.17148842e-02,  1.84666116e-03,\n",
       "        -9.21590455e-03,  8.37179480e-03,  4.53520197e-03,  3.37882284e-03,\n",
       "        -1.05971455e-02,  6.02954830e-03,  8.26409553e-03,  4.67807353e-03,\n",
       "         4.76232208e-03,  9.10043085e-03,  1.55270208e-03, -5.33672968e-03,\n",
       "        -3.78659452e-03, -6.95250581e-03,  1.19137501e-02, -1.16136419e-03,\n",
       "        -5.87601389e-03,  7.90146354e-05, -4.35769376e-03,  1.25058342e-02,\n",
       "         3.34863779e-03,  6.09545374e-03,  1.02001920e-02, -1.49777620e-02,\n",
       "        -9.35997424e-03,  2.71504513e-03,  1.13401836e-02,  6.10330922e-03,\n",
       "         1.25108458e-02,  4.21694520e-05,  2.67958888e-03, -6.23735035e-03,\n",
       "        -1.43156287e-02, -6.11224997e-03, -1.29906537e-02, -6.33263936e-03,\n",
       "        -3.74269361e-03,  9.99316413e-03,  3.36500076e-03, -1.10949008e-03,\n",
       "         4.42376456e-04, -1.66284107e-03, -1.17192530e-02, -1.03775461e-02,\n",
       "        -1.10199406e-02, -2.68387230e-03,  7.60734366e-06,  1.33768661e-02,\n",
       "        -5.52961487e-03, -2.13122183e-03,  1.39415160e-02,  3.28636612e-03,\n",
       "        -6.42803005e-04,  4.94151770e-03, -9.44448552e-03, -1.93920771e-03,\n",
       "        -4.55608622e-03,  1.40115369e-02, -5.08334062e-03, -1.58879583e-02,\n",
       "         6.50313266e-03,  1.10592910e-02,  5.55798435e-03,  7.26266990e-03,\n",
       "         1.91045458e-03, -3.10623272e-03,  4.11410608e-04,  8.47034084e-03,\n",
       "         3.54106702e-03,  5.95489870e-03, -3.15849817e-03,  1.21505146e-03,\n",
       "         1.09417502e-03,  1.95488738e-03, -4.02062935e-03,  1.26933845e-02,\n",
       "         7.34087816e-03, -6.31656982e-03, -8.35106549e-03, -4.97662177e-03,\n",
       "        -3.26837520e-03, -7.23674625e-03,  2.59509045e-03, -1.01611210e-02,\n",
       "        -8.25512714e-03,  1.62097132e-02, -1.08890448e-02,  1.35016444e-02,\n",
       "        -9.51326691e-03, -1.22435177e-02,  9.62817109e-03,  1.81499400e-03,\n",
       "         1.57488138e-03, -7.53318355e-03,  2.17386363e-03,  3.89184872e-03,\n",
       "        -8.41007500e-03, -1.10852534e-02,  6.06927358e-03, -4.54788411e-03,\n",
       "        -3.94986638e-03,  2.98835788e-04,  7.71016754e-03, -1.18264685e-02,\n",
       "        -1.10114886e-02, -8.05054809e-03,  5.02759354e-03, -4.60058588e-03,\n",
       "        -9.75580731e-03, -3.13884071e-03, -5.22014481e-03,  6.26931178e-03,\n",
       "         6.01563984e-03,  1.06255620e-02, -1.17830032e-02, -7.78431574e-03,\n",
       "        -3.73273984e-03, -3.04043657e-03,  1.13377249e-02,  2.97064365e-03,\n",
       "        -7.51907771e-03,  1.10392553e-02,  1.31576083e-02,  8.06128823e-03,\n",
       "         9.01323173e-03,  1.52126635e-03,  6.12205441e-03, -1.08934310e-02,\n",
       "         5.47146975e-03, -3.92360810e-04, -3.90607050e-05, -1.24858016e-02,\n",
       "         4.08384660e-03,  5.62379277e-04, -1.24238457e-02, -2.43957823e-03,\n",
       "         4.17726158e-03,  4.29814870e-03,  7.49098903e-03, -1.23488693e-02,\n",
       "        -1.46998226e-02, -7.31754758e-05, -1.41422110e-02, -2.20595695e-03,\n",
       "        -4.46625357e-03,  6.83389896e-03,  5.45148442e-03, -7.71238304e-03,\n",
       "         8.02433522e-03, -4.56082385e-03, -1.44680619e-02, -1.68156965e-03,\n",
       "        -6.97739233e-03,  1.02417736e-02, -1.94271323e-03,  4.26361215e-03,\n",
       "         1.47783040e-04, -2.41111412e-03, -3.50197355e-03, -1.06290710e-02,\n",
       "        -8.12004476e-03, -7.76790511e-04, -8.12204777e-03,  8.04340712e-03,\n",
       "         1.18980467e-02,  6.85814398e-04, -2.98181578e-03,  4.82678931e-03,\n",
       "         4.75459531e-03, -1.14412891e-02, -1.71825909e-03, -3.77929425e-04,\n",
       "        -1.10569438e-02,  1.10752800e-02, -6.91614427e-03,  1.82145013e-03,\n",
       "        -3.11751990e-03,  5.10563599e-04, -4.77382997e-03, -1.91292326e-03,\n",
       "         3.68633419e-03, -8.24179276e-03, -2.31097026e-03, -1.62661598e-02,\n",
       "        -4.08868113e-03,  4.39746689e-03,  1.59729255e-02,  7.61365412e-03])}"
      ]
     },
     "execution_count": 25,
     "metadata": {},
     "output_type": "execute_result"
    }
   ],
   "source": [
    "grad_parameters(train_img[2], train_lab[2], init_parameters())"
   ]
  },
  {
   "cell_type": "code",
   "execution_count": 26,
   "metadata": {},
   "outputs": [
    {
     "name": "stdout",
     "output_type": "stream",
     "text": [
      "-1.3846746103884922e-08\n",
      "-1.7988846957167626e-08\n",
      "-2.4969842381261653e-08\n",
      "-2.072756979248913e-08\n",
      "5.6520212843302886e-08\n",
      "-2.00779360151615e-08\n",
      "6.785559614197467e-08\n",
      "5.5956227151821025e-08\n",
      "-5.701810744038194e-09\n",
      "5.9529777718392296e-08\n"
     ]
    }
   ],
   "source": [
    "# 验证b求导公式精确性\n",
    "h = 0.000001\n",
    "for i in range(10):\n",
    "    img_i = np.random.randint(train_num)\n",
    "    test_parameters = init_parameters()\n",
    "    derivative = grad_parameters(train_img[img_i], train_lab[img_i], test_parameters)['b1']\n",
    "    \n",
    "    value1 = sqr_loss(train_img[img_i], train_lab[img_i], test_parameters)\n",
    "    test_parameters[1]['b'][i] += h\n",
    "    value2 = sqr_loss(train_img[img_i], train_lab[img_i], test_parameters)\n",
    "    print(derivative[i] - (value2 - value1) / h)"
   ]
  },
  {
   "cell_type": "code",
   "execution_count": 27,
   "metadata": {},
   "outputs": [],
   "source": [
    "# 验证集的损失函数\n",
    "def valid_loss(parameters):\n",
    "    loss_accu = 0\n",
    "    for img_i in range(valid_num):\n",
    "        loss_accu += sqr_loss(valid_img[img_i], valid_lab[img_i], parameters)\n",
    "    return loss_accu\n",
    "# 验证集的准确度\n",
    "def valid_accuracy(parameters):\n",
    "    correct = [predict(valid_img[img_i], parameters).argmax() == valid_lab[img_i] for img_i in range(valid_num)]\n",
    "    accuracy = correct.count(True) / len(correct)\n",
    "    print(f'validation accuracy: {accuracy}')"
   ]
  },
  {
   "cell_type": "code",
   "execution_count": 28,
   "metadata": {},
   "outputs": [
    {
     "data": {
      "text/plain": [
       "9193.533292070224"
      ]
     },
     "execution_count": 28,
     "metadata": {},
     "output_type": "execute_result"
    }
   ],
   "source": [
    "valid_loss(parameters)"
   ]
  },
  {
   "cell_type": "code",
   "execution_count": 29,
   "metadata": {},
   "outputs": [
    {
     "name": "stdout",
     "output_type": "stream",
     "text": [
      "validation accuracy: 0.1078\n"
     ]
    }
   ],
   "source": [
    "valid_accuracy(parameters)"
   ]
  },
  {
   "cell_type": "code",
   "execution_count": 30,
   "metadata": {},
   "outputs": [],
   "source": [
    "# 分批训练，一批100张图片\n",
    "batch_size = 100\n",
    "def train_batch(current_batch, parameters):\n",
    "    grad_accu = grad_parameters(train_img[current_batch * batch_size + 0], train_lab[current_batch * batch_size + 0], parameters)\n",
    "    for img_i in range(1, batch_size):\n",
    "        # 每批求一次损失和，然后取平均\n",
    "        grad_tmp = grad_parameters(train_img[current_batch * batch_size + img_i], train_lab[current_batch * batch_size + img_i], parameters)\n",
    "        for key in grad_accu.keys():\n",
    "            grad_accu[key] += grad_tmp[key]\n",
    "    # 取平均过程\n",
    "    for key in grad_accu.keys():\n",
    "        grad_accu[key] /= batch_size\n",
    "    # 返回平均梯度\n",
    "    return grad_accu"
   ]
  },
  {
   "cell_type": "code",
   "execution_count": 31,
   "metadata": {},
   "outputs": [
    {
     "data": {
      "text/plain": [
       "{'w1': array([[0., 0., 0., ..., 0., 0., 0.],\n",
       "        [0., 0., 0., ..., 0., 0., 0.],\n",
       "        [0., 0., 0., ..., 0., 0., 0.],\n",
       "        ...,\n",
       "        [0., 0., 0., ..., 0., 0., 0.],\n",
       "        [0., 0., 0., ..., 0., 0., 0.],\n",
       "        [0., 0., 0., ..., 0., 0., 0.]]),\n",
       " 'b1': array([ 0.01009497, -0.00879027,  0.00352618,  0.00210616, -0.00048554,\n",
       "         0.00393927, -0.0044693 , -0.00504951,  0.00756697, -0.00843892]),\n",
       " 'b0': array([ 1.17934488e-03,  3.26835689e-04,  1.61392876e-03,  2.34258306e-04,\n",
       "         1.17608507e-04,  2.49701812e-05, -9.60236122e-04, -1.37335581e-03,\n",
       "        -1.11368421e-04, -7.23446890e-04, -1.75461632e-03, -1.00872294e-03,\n",
       "        -8.52231974e-04, -6.49341018e-04,  2.31843379e-03,  2.60891565e-05,\n",
       "        -1.32217040e-03,  7.76828986e-05,  4.49253877e-05,  9.18761216e-04,\n",
       "        -3.37545610e-05,  1.55291515e-04,  2.29712129e-04, -3.32553828e-04,\n",
       "        -1.55760518e-03,  5.75317910e-04, -6.17714075e-04, -1.71754711e-04,\n",
       "        -2.57290583e-03,  1.00506872e-03, -1.05289585e-03, -3.32417528e-05,\n",
       "        -9.22830123e-04, -1.14380507e-04, -9.47918116e-04, -6.11934757e-04,\n",
       "        -1.00038570e-03,  2.38271146e-04, -4.43353052e-04, -1.43307479e-03,\n",
       "        -8.14645289e-04,  3.50283413e-04, -5.95483297e-04,  1.49004979e-03,\n",
       "         4.42097301e-04, -1.43986982e-03,  1.15982277e-03,  7.21078542e-04,\n",
       "         1.71014073e-03, -5.06170007e-04,  1.74067165e-04, -1.59722841e-03,\n",
       "        -1.11604450e-03,  1.26399999e-03, -1.19509589e-03,  9.77942819e-04,\n",
       "         9.39360432e-04, -1.29131050e-06,  2.35657597e-04, -1.07079043e-03,\n",
       "        -2.34346624e-04,  1.79215702e-03, -1.53495524e-03,  9.80321162e-04,\n",
       "         2.03648693e-04, -1.11475070e-03, -3.91712864e-04, -1.14916877e-03,\n",
       "        -8.17732953e-04, -1.31272342e-04,  1.81443999e-04,  6.40284483e-04,\n",
       "        -5.79652356e-04,  8.81246786e-04, -3.74989074e-04,  8.52507914e-04,\n",
       "        -2.34512116e-03, -7.30308708e-04, -1.71590505e-04,  3.04056440e-03,\n",
       "        -1.09917797e-03,  2.07518286e-04, -3.87651634e-05,  3.22128970e-04,\n",
       "         1.86862012e-03, -2.54339121e-03, -1.26992617e-03, -5.85141429e-05,\n",
       "         1.84732633e-04, -1.13178259e-03, -3.47239000e-04,  7.81536516e-04,\n",
       "         5.70913476e-04,  1.35776781e-03,  9.02229553e-04,  8.06741526e-04,\n",
       "         6.54066642e-04, -1.13335825e-03, -1.07345473e-03,  3.35517452e-04,\n",
       "         2.50425010e-04,  6.52699082e-04, -3.00613459e-04,  9.72104493e-04,\n",
       "        -1.03433552e-03,  2.18296749e-05, -1.19862377e-03, -1.73412816e-03,\n",
       "        -1.56967371e-03, -1.00052337e-03, -4.32656603e-04, -1.40167584e-03,\n",
       "         1.72575383e-04,  5.12777089e-04,  5.73633658e-04, -2.40474256e-04,\n",
       "        -5.69718628e-04,  1.17277073e-03,  9.10160747e-04, -5.82023882e-04,\n",
       "        -1.81126776e-03, -6.53861368e-04, -4.55788787e-04, -2.52249467e-04,\n",
       "         1.20857997e-03,  1.51031089e-04,  5.06700407e-04, -4.53687022e-04,\n",
       "         1.48967994e-05, -4.46785379e-05, -2.15405650e-04,  1.66236070e-03,\n",
       "        -1.11592744e-03, -1.05185665e-03,  1.21072889e-03, -2.34668901e-03,\n",
       "         8.88809604e-05, -8.63651791e-04, -1.11125848e-03, -4.38470360e-04,\n",
       "        -1.83272794e-03, -1.07233396e-03, -1.30539122e-03, -5.41246472e-04,\n",
       "        -8.11185352e-05, -8.27146828e-04, -4.85825667e-04, -1.29945898e-03,\n",
       "         5.34386676e-04, -5.64584712e-04, -2.20267694e-04,  1.24069580e-03,\n",
       "        -7.96772512e-04,  1.32369192e-04,  2.86974723e-04,  1.04954709e-04,\n",
       "        -2.17563314e-04, -2.14833345e-04, -7.12577425e-04, -4.74956564e-05,\n",
       "        -1.42849915e-03,  1.42103137e-03, -6.47529868e-04, -1.75405753e-04,\n",
       "         2.99280916e-04, -1.38706722e-03,  1.01392269e-03,  2.62725645e-04,\n",
       "        -3.60047951e-04,  1.00845781e-03, -1.23145466e-03,  2.73252681e-05,\n",
       "        -1.89190317e-04,  8.35987927e-04, -2.60689642e-03, -1.54951196e-03,\n",
       "         6.75176770e-04, -1.19296464e-03,  1.50990673e-03,  3.67595745e-04,\n",
       "        -2.31491690e-04,  1.45918783e-03,  1.21138471e-03,  8.85316143e-04,\n",
       "         1.71001804e-03,  3.15955212e-04, -1.99089929e-03,  6.35619712e-04,\n",
       "        -1.82733217e-03,  2.55872629e-03,  1.15677624e-03,  1.76141375e-03,\n",
       "         4.89875062e-04,  3.19395991e-04,  3.91043246e-04, -8.45127805e-04,\n",
       "         1.16823736e-03, -1.74958492e-03, -1.74388603e-03, -1.44127579e-03,\n",
       "         7.46605999e-04,  1.13248576e-04, -8.55554623e-04,  9.77931648e-04,\n",
       "        -7.28712301e-05,  1.37160350e-03,  7.17286112e-04, -2.77165430e-04,\n",
       "         6.34224544e-04,  7.33686640e-04, -1.97787752e-03, -1.59512391e-03,\n",
       "        -1.15779003e-03,  1.25243936e-03, -3.40648365e-04,  1.08830783e-03,\n",
       "         2.61402028e-04, -1.42812619e-03,  1.21498707e-03, -1.64246810e-03,\n",
       "        -3.75961805e-04,  6.32512737e-04, -1.63198803e-03, -1.33536258e-04,\n",
       "         8.10331684e-04, -1.57421192e-03, -7.83434548e-05,  1.53851785e-04,\n",
       "        -2.04282685e-04,  1.20949489e-03, -4.96427662e-06, -1.24544705e-03,\n",
       "        -7.28326761e-04,  1.63535385e-03,  4.98128732e-04, -1.60243282e-04,\n",
       "        -1.38582464e-03, -1.35380402e-03, -9.31989486e-04, -5.97246024e-04,\n",
       "         1.43502293e-04,  4.56758381e-04, -7.06226227e-04, -1.35866523e-03,\n",
       "         1.22314808e-03, -3.89766032e-04, -1.13231575e-03,  1.16151757e-03,\n",
       "        -4.81494299e-04, -8.91480699e-04,  3.35794251e-04, -1.40087472e-04,\n",
       "         1.66338371e-03, -5.71124823e-04, -6.97284195e-04, -4.68928814e-05,\n",
       "         1.00989543e-03, -2.20186296e-03, -6.90507984e-05, -3.00088731e-04,\n",
       "        -4.78823892e-04,  9.55645334e-04,  1.93522409e-03, -2.27774184e-03,\n",
       "         8.01739001e-04, -2.15080950e-04, -5.99335487e-04,  1.07560497e-03,\n",
       "         8.57926508e-04, -6.69655042e-04, -5.85996451e-04,  1.13880437e-03,\n",
       "         1.58856545e-03,  2.89599963e-04, -6.95691976e-04, -4.35755765e-04,\n",
       "        -1.20949432e-04,  2.88306935e-04,  4.40792839e-04, -6.83701595e-04,\n",
       "         4.48444685e-04, -3.35842301e-04,  1.84719655e-04,  3.28457266e-04,\n",
       "        -3.95287821e-04,  1.44353175e-03, -1.16974320e-03, -8.85873818e-04,\n",
       "        -1.13270647e-04,  3.81162016e-04,  6.72978040e-04, -2.75964715e-04,\n",
       "        -1.45188453e-03,  2.14526259e-03,  1.47416434e-03, -1.55568238e-03,\n",
       "         1.82654885e-04,  3.42814737e-04, -5.18804586e-04,  2.42264099e-03,\n",
       "         2.05938131e-03, -2.83427698e-04, -1.39563865e-03,  9.09945892e-04,\n",
       "        -1.38886631e-03, -9.66144647e-04, -9.81421767e-04, -2.17910630e-03,\n",
       "         2.36076073e-04, -8.44194369e-04, -7.29984812e-04,  1.78174559e-03,\n",
       "         6.32186334e-04,  6.75970108e-04,  1.55705358e-03,  5.96456047e-04,\n",
       "        -4.74773806e-04, -1.40608635e-03,  1.26722541e-03, -1.46621583e-03,\n",
       "        -1.30736319e-03, -8.19427048e-04, -4.95524496e-04, -7.71719922e-04,\n",
       "         8.52698955e-04, -2.13125766e-04,  5.00460608e-04, -3.73549217e-04,\n",
       "         2.24861338e-04, -2.02802856e-05, -7.23964989e-04,  8.67039210e-04,\n",
       "         1.74281941e-05, -5.56112541e-04,  1.18643076e-03,  1.26427048e-03,\n",
       "         5.82332892e-04, -7.07201794e-04, -1.06851208e-03,  3.38172031e-04,\n",
       "         1.32260093e-03, -1.14664836e-03, -2.30315198e-04,  5.59010691e-05,\n",
       "        -7.79586462e-06,  6.92990014e-04, -2.72221095e-04, -6.31715572e-04,\n",
       "         1.91016881e-03,  5.27579335e-04,  8.22804829e-04,  3.47657814e-04,\n",
       "         3.95913458e-04,  5.25953270e-04, -3.31405524e-04, -6.66207662e-04,\n",
       "        -2.20208017e-03, -1.51663358e-03,  6.76967045e-04,  6.46270566e-05,\n",
       "        -7.40456535e-04,  5.22710329e-04, -1.68408340e-04,  7.30797798e-04,\n",
       "        -1.49543782e-03, -6.22286856e-05, -4.77610973e-04,  2.89035244e-05,\n",
       "         9.31643767e-04,  6.50641884e-04,  1.21064294e-03,  5.52172192e-04,\n",
       "         1.02207942e-03, -6.32973710e-04,  9.13387232e-04, -1.09061880e-03,\n",
       "         2.26817222e-04, -5.90550695e-04, -4.73547728e-04,  1.95956333e-04,\n",
       "         5.69314160e-05,  2.31883014e-04, -3.33792391e-04, -1.73176279e-03,\n",
       "        -1.26144974e-03, -5.18075885e-04,  6.82146566e-04, -5.09870193e-04,\n",
       "         1.54816102e-04, -5.97521426e-04, -4.74534427e-04,  1.61503856e-03,\n",
       "         7.45611196e-04,  1.56403387e-04, -1.32670136e-03, -1.87490383e-03,\n",
       "        -3.06897951e-04,  6.98699957e-04, -4.60264161e-04,  1.59415844e-03,\n",
       "         1.75819941e-03, -4.78576455e-04, -5.46396100e-04,  7.33570467e-04,\n",
       "        -1.70388850e-03,  1.00612251e-03,  1.76128181e-04,  4.27518719e-04,\n",
       "        -1.75428314e-04, -5.79667947e-04,  9.80157432e-05, -1.88233726e-03,\n",
       "        -1.27514382e-03, -3.10240063e-03,  2.99563707e-04, -1.59385692e-04,\n",
       "        -1.60370729e-03, -2.63227476e-03,  1.26289806e-04, -1.22292701e-03,\n",
       "        -1.30956136e-03,  4.49195558e-04,  1.25297434e-03,  2.00771718e-04,\n",
       "         4.35543654e-04, -9.36605772e-04,  8.78745184e-04, -7.15336322e-04,\n",
       "        -3.86543545e-04,  2.65729633e-04, -3.90882951e-04, -1.77238886e-03,\n",
       "         5.90294509e-04,  1.12453184e-03, -1.00126409e-03, -6.34780721e-04,\n",
       "        -7.75754049e-04, -4.73910830e-04,  1.42412160e-03,  1.69742319e-04,\n",
       "        -7.68051895e-05, -4.45780890e-04, -1.27092828e-03,  8.47281135e-04,\n",
       "         4.14454789e-04, -2.57364588e-05, -1.24657593e-03, -9.08220422e-04,\n",
       "        -8.66619754e-04, -1.51572184e-03, -1.83107911e-03,  8.80138947e-04,\n",
       "         2.28816596e-04, -2.64322925e-03,  1.06492087e-03, -8.54847787e-04,\n",
       "         7.04594133e-04,  1.80744769e-03, -1.02825159e-04, -1.53164572e-03,\n",
       "         1.42871012e-03, -1.67455913e-04,  6.52724419e-04,  2.60342557e-04,\n",
       "        -1.74005778e-05,  6.18621433e-04,  9.26007798e-05, -1.38214303e-03,\n",
       "        -8.29398858e-04, -7.09962371e-04, -1.69366713e-04,  1.17061477e-03,\n",
       "         1.66685071e-03,  6.20515872e-04,  1.07090746e-04,  1.79563956e-04,\n",
       "        -1.71300640e-04, -3.95489359e-04,  3.46344206e-06, -1.62578861e-03,\n",
       "         4.90537851e-04, -2.15575300e-03,  1.35865581e-03,  1.50366018e-03,\n",
       "        -4.60386259e-04,  4.54685003e-04, -8.49019658e-04,  7.49879423e-04,\n",
       "         1.93316632e-03,  2.26600841e-04, -2.80638516e-04, -2.33393359e-05,\n",
       "         5.54643668e-04, -3.58905821e-05, -1.09286758e-05,  5.02211377e-04,\n",
       "         4.32943464e-04, -3.62006952e-04,  2.42019865e-03, -1.42874618e-03,\n",
       "        -3.76157842e-04, -9.10990849e-04, -4.43591410e-04,  7.84092335e-04,\n",
       "         3.18541521e-04,  6.43308738e-04,  8.57616283e-04, -3.26242325e-04,\n",
       "         1.41238171e-03, -8.59711716e-04, -2.31524049e-04,  1.14349532e-03,\n",
       "         1.14415245e-03, -6.63154244e-04, -7.72992968e-04, -2.81242054e-04,\n",
       "        -1.24146358e-04, -6.24228887e-04,  3.31072238e-04,  2.25598297e-04,\n",
       "        -1.90151138e-03, -4.22055189e-04, -1.13351638e-03,  1.35279780e-03,\n",
       "         4.48470759e-04,  1.11809269e-03,  2.39291878e-05, -1.62183539e-03,\n",
       "        -4.96389381e-04, -1.52606801e-04,  3.06851251e-04,  9.05214656e-04,\n",
       "         7.16240353e-05,  2.37913515e-03,  1.06094118e-03, -7.99565060e-04,\n",
       "        -1.17970177e-03,  4.34887051e-04, -4.63475823e-04, -1.53450580e-04,\n",
       "         2.46298206e-03, -1.12539274e-03,  2.35385510e-03, -4.82317538e-04,\n",
       "         1.64828598e-03, -1.30465626e-04, -4.00945924e-04, -1.48912193e-03,\n",
       "        -4.49593032e-04, -6.29422551e-04, -7.33908267e-06,  8.10357816e-04,\n",
       "         5.47598958e-04, -2.03631079e-05, -5.86836206e-04,  1.55168490e-03,\n",
       "        -4.56855679e-04, -1.66511125e-03,  1.30192554e-03, -3.70764986e-04,\n",
       "        -9.55454363e-04, -1.99203954e-03,  8.16901064e-04, -1.16956431e-03,\n",
       "         1.40806909e-03, -8.35159342e-04,  3.72848056e-04, -4.11439898e-04,\n",
       "         6.58848734e-04, -2.30568353e-05, -9.86821147e-04,  8.18136754e-04,\n",
       "         2.87150749e-06, -9.16596594e-04,  2.27043756e-04,  1.35647313e-03,\n",
       "         1.52962982e-03,  1.53198995e-03, -1.37738063e-03, -2.01902484e-04,\n",
       "         2.21226256e-04,  5.99111834e-04,  7.70003696e-04,  9.23958321e-04,\n",
       "         6.63895185e-04, -2.84717048e-04, -7.31113660e-04,  7.23508788e-05,\n",
       "         7.58698300e-04,  1.74895945e-04,  5.52647580e-04,  1.13939937e-03,\n",
       "        -8.49149192e-04, -1.40234838e-03,  1.10491769e-04,  6.84144360e-05,\n",
       "        -7.20601873e-04, -8.83615114e-04, -1.05554786e-03,  1.40100516e-04,\n",
       "         1.60101680e-04,  4.77848745e-04, -7.66179595e-04,  6.16658976e-04,\n",
       "         4.59551868e-04,  1.22656946e-03,  5.07817477e-04,  1.81296906e-03,\n",
       "         9.88700450e-04,  4.84347461e-04, -2.61280614e-04, -1.17829618e-04,\n",
       "         2.21277307e-04, -1.06650792e-04,  8.29668011e-04, -4.00673749e-04,\n",
       "         1.49683587e-03,  5.44379616e-04, -1.10142993e-03,  4.23544543e-04,\n",
       "         1.02773101e-03,  1.05915693e-03,  1.81325710e-04,  9.94184921e-04,\n",
       "         2.59870456e-03, -8.17421350e-04, -1.87523115e-03,  2.94152495e-04,\n",
       "        -1.04174332e-03, -2.79102471e-04,  1.89551074e-03, -4.05665181e-05,\n",
       "         1.51642723e-03, -4.05283745e-04,  1.86934630e-03,  4.72794088e-04,\n",
       "         6.40169591e-04, -2.60918965e-03,  6.34964436e-04, -6.00947057e-04,\n",
       "         1.32789967e-03,  1.66981933e-04,  1.41994910e-04, -7.80547516e-04,\n",
       "        -6.41962298e-04, -4.56546956e-04, -2.12516350e-03, -5.07138481e-04,\n",
       "        -3.99211636e-04, -1.77459845e-04, -2.19115015e-03, -2.90026166e-04,\n",
       "         9.31255898e-04,  5.09831998e-04, -1.14271033e-03, -7.21782468e-04,\n",
       "        -5.06603619e-04, -1.80516975e-03,  1.13611535e-03,  1.17759338e-03,\n",
       "         1.50187404e-03, -1.33071958e-03,  7.12416113e-04, -3.72899712e-04,\n",
       "         8.26451738e-04,  5.44847959e-04, -2.17757537e-04,  1.06069815e-03,\n",
       "         2.35467051e-04, -7.72727837e-04,  1.19344599e-03,  2.28834881e-03,\n",
       "         3.72208896e-04, -7.08380890e-04, -1.53955840e-03,  1.30183683e-03,\n",
       "         1.02519897e-03, -1.94617424e-04,  2.82344005e-04, -2.90548887e-04,\n",
       "        -6.11632438e-05,  7.23351537e-04,  6.11358169e-04,  1.85053633e-03,\n",
       "         6.40332848e-04, -8.76240941e-04,  1.20863147e-03, -6.11127063e-04,\n",
       "        -4.10059136e-04, -6.94196131e-04,  4.55924091e-04, -3.22427605e-03,\n",
       "         1.68272015e-03,  9.09736287e-04,  6.87668471e-04, -6.93467497e-04,\n",
       "         2.71053679e-04,  6.32465281e-05,  9.09573302e-05, -7.29618050e-04,\n",
       "         1.76619328e-03, -2.00350455e-03, -4.15476427e-04, -1.34764386e-03,\n",
       "        -2.94465376e-04, -3.19071613e-04,  6.71962613e-04, -1.11421376e-03,\n",
       "         4.36985937e-04, -1.75040292e-03,  1.05905721e-03, -8.68064156e-04,\n",
       "        -9.86513467e-04,  1.54731098e-03,  9.06424425e-04, -9.59134316e-04,\n",
       "         6.99251252e-04,  1.36837812e-03, -1.03832604e-03,  7.18717476e-04,\n",
       "         9.28136954e-04,  1.24958711e-03, -3.62619608e-04, -6.50678573e-04,\n",
       "         1.24854478e-03, -4.55907535e-04, -2.50589463e-04,  6.15221977e-04,\n",
       "         2.76361071e-04,  1.68484440e-04,  1.06087207e-03,  1.39602988e-03,\n",
       "         2.35366806e-03, -2.40512712e-04, -2.49257724e-04,  2.24225208e-04,\n",
       "         6.27754605e-04,  1.12326437e-03,  2.16685903e-04,  1.11348307e-03,\n",
       "        -2.00678550e-04, -3.91434229e-05, -1.92545475e-03,  3.26662982e-04,\n",
       "         2.57861742e-04,  1.76217707e-03, -4.87653484e-04, -1.46034595e-03,\n",
       "        -2.23373464e-04, -1.01208061e-03, -1.01613595e-03, -9.12587271e-04,\n",
       "         1.04154409e-03,  4.31031549e-04, -2.51715860e-04, -6.92500752e-04,\n",
       "        -9.22438498e-04, -1.06022916e-03,  7.23259120e-04,  1.55676878e-03,\n",
       "        -1.61217718e-03,  1.75093312e-04, -2.81496365e-04,  1.57872203e-03,\n",
       "         4.69821429e-04, -8.56627171e-04, -1.21778961e-03,  2.07287331e-04,\n",
       "         1.45162929e-03,  3.34059672e-04, -1.18764214e-05,  2.47002850e-04,\n",
       "         1.22260852e-03,  1.05875403e-03,  4.53422710e-04, -6.46432020e-04,\n",
       "        -1.89394261e-04,  4.18480382e-04, -2.27630881e-04,  8.04265911e-04,\n",
       "        -9.35284962e-04,  1.12550100e-03,  1.28680359e-03,  6.49786450e-05])}"
      ]
     },
     "execution_count": 31,
     "metadata": {},
     "output_type": "execute_result"
    }
   ],
   "source": [
    "train_batch(0, init_parameters())"
   ]
  },
  {
   "cell_type": "code",
   "execution_count": 32,
   "metadata": {},
   "outputs": [
    {
     "name": "stdout",
     "output_type": "stream",
     "text": [
      "-2.280124368481129e-08\n",
      "-1.4852067915793743e-08\n",
      "-3.000186045432063e-08\n",
      "-2.6987810056167127e-08\n",
      "-2.791606582008832e-08\n",
      "-1.4523905678825999e-08\n",
      "-4.476362847234683e-09\n",
      "-4.930611396600226e-09\n",
      "-1.189105795426637e-08\n",
      "-6.53550676077419e-09\n"
     ]
    }
   ],
   "source": [
    "# b1验证\n",
    "for i in range(10):\n",
    "    img_i = np.random.randint(train_num)\n",
    "    test_parameters = init_parameters()\n",
    "    derivative = grad_parameters(train_img[img_i], train_lab[img_i], test_parameters)['b1']\n",
    "    value1 = sqr_loss(train_img[img_i], train_lab[img_i], test_parameters)\n",
    "    test_parameters[1]['b'][i] += h\n",
    "    value2 = sqr_loss(train_img[img_i], train_lab[img_i], test_parameters)\n",
    "    print(derivative[i] - (value2 - value1) / h)"
   ]
  },
  {
   "cell_type": "code",
   "execution_count": 33,
   "metadata": {},
   "outputs": [],
   "source": [
    "# 开始正式训练，先初始化所有参数\n",
    "parameters = init_parameters()"
   ]
  },
  {
   "cell_type": "code",
   "execution_count": 34,
   "metadata": {},
   "outputs": [],
   "source": [
    "import copy\n",
    "# 将学习率*梯度作用在每个参数上，实现梯度下降\n",
    "def combine_parameters(parameters, grad, learn_rate):\n",
    "    # 拷贝参数，然后梯度下降，然后返回\n",
    "    parameter_tmp = copy.deepcopy(parameters)\n",
    "    parameter_tmp[0]['b'] -= learn_rate * grad['b0']\n",
    "    parameter_tmp[1]['b'] -= learn_rate * grad['b1']\n",
    "    parameter_tmp[1]['w'] -= learn_rate * grad['w1']\n",
    "    return parameter_tmp"
   ]
  },
  {
   "cell_type": "code",
   "execution_count": 35,
   "metadata": {},
   "outputs": [
    {
     "data": {
      "text/plain": [
       "[{'b': array([-2.06332979e-04,  2.92640024e-04,  1.58000270e-04, -9.94789793e-04,\n",
       "          1.59652205e-04,  5.96497728e-04,  1.12332656e-03, -4.68056663e-04,\n",
       "          9.35616532e-04,  2.86723233e-04,  2.98045047e-04,  9.02234209e-04,\n",
       "          2.21851981e-03,  1.88678442e-05,  5.50500655e-04,  2.03179796e-03,\n",
       "         -8.20256596e-04, -2.81851428e-04,  1.60496073e-03, -9.61554380e-04,\n",
       "         -7.49655143e-04, -3.44422085e-05,  1.26718343e-03,  2.14242019e-03,\n",
       "          8.60637376e-04, -4.28539129e-04,  6.15870943e-04,  4.17440287e-05,\n",
       "          2.20517161e-04, -1.85524154e-04,  1.31761435e-03, -1.57193529e-03,\n",
       "         -2.68539217e-04,  1.44442571e-03, -4.64770840e-04, -3.16730850e-05,\n",
       "          2.65265953e-04,  1.68973149e-03, -8.89634218e-04, -1.26902788e-04,\n",
       "          7.64898959e-04,  2.51367662e-04, -8.33393095e-04, -8.11040681e-04,\n",
       "          1.93928000e-04,  4.36511061e-05,  9.39428032e-04, -2.11658704e-04,\n",
       "         -1.86019695e-03,  1.17156460e-03, -9.66896507e-04,  4.56324918e-04,\n",
       "         -7.58494050e-04,  1.43840733e-03,  1.11907008e-03, -1.03395137e-04,\n",
       "          1.20440483e-03,  2.64826708e-03, -1.62036687e-03,  6.22386196e-04,\n",
       "          1.75950094e-03, -1.74364225e-03,  2.60835263e-03, -3.27136158e-04,\n",
       "          2.86638429e-04, -7.12750475e-04,  5.29488028e-04,  1.28852954e-03,\n",
       "         -8.74442486e-04,  4.95123286e-04,  4.02646153e-04,  6.98739571e-04,\n",
       "         -1.20534694e-03, -1.51154654e-03, -1.27826830e-03,  4.60462260e-04,\n",
       "         -4.41919129e-04, -1.40228368e-03, -6.60781828e-04,  4.88921607e-04,\n",
       "         -7.54905762e-05,  7.58656465e-05, -4.36804225e-04, -2.89728666e-04,\n",
       "          7.70932168e-04, -7.77161935e-05,  2.68401194e-04, -3.12227768e-04,\n",
       "         -2.18219220e-03,  1.88237669e-03,  3.63089247e-05,  6.55722016e-04,\n",
       "          1.03336745e-03, -1.60324605e-03,  6.30105147e-04, -5.41109370e-04,\n",
       "         -1.74967621e-03, -1.01815293e-03, -3.68391727e-04, -1.16455891e-03,\n",
       "          3.42619756e-04, -2.29149844e-05,  1.33660943e-03, -2.14382176e-04,\n",
       "          1.43438517e-03,  9.35925853e-04, -1.67880102e-03, -2.41907650e-04,\n",
       "         -4.83372815e-04, -1.08421330e-03,  1.59061538e-03, -2.61279115e-04,\n",
       "          8.51696389e-04, -3.42666473e-05,  3.34773086e-04, -8.96929846e-04,\n",
       "          1.74835461e-04, -4.66092934e-05,  2.42274246e-03,  3.23102830e-04,\n",
       "          5.62682173e-04,  4.29867163e-05, -1.11404414e-03, -7.41274239e-05,\n",
       "         -6.42777844e-04,  1.60647895e-03,  1.63409376e-04,  1.95308348e-04,\n",
       "          1.87739182e-03,  7.04181295e-04, -1.29298258e-04, -2.10069456e-04,\n",
       "          2.86680765e-05, -1.18730589e-03,  2.29294860e-04,  8.84903394e-04,\n",
       "         -2.40642912e-03,  1.16713617e-03, -6.77225404e-04, -5.25195586e-04,\n",
       "         -4.62549809e-04,  3.29110625e-04, -1.02896101e-03,  1.04334562e-03,\n",
       "         -6.16322092e-04, -4.15012899e-04, -1.16655348e-03,  2.64861540e-04,\n",
       "          3.74181238e-04, -2.59853046e-03,  8.32022819e-04,  2.56157850e-03,\n",
       "         -1.23835408e-03,  9.86261892e-04, -1.71875286e-04,  3.31368180e-04,\n",
       "         -3.07611237e-04,  1.83867231e-03,  1.93976764e-03, -4.07290398e-04,\n",
       "          1.44031276e-03, -1.50055912e-03,  1.28693843e-03,  1.76825756e-03,\n",
       "         -8.99499522e-04, -1.90522312e-04,  5.79645807e-04, -1.50675661e-03,\n",
       "          4.66541592e-04, -1.57365397e-03,  1.91111957e-03,  4.62904140e-04,\n",
       "          7.31067387e-05,  1.19694290e-03,  8.36146946e-05, -8.77272032e-04,\n",
       "          6.25775907e-04, -4.16558522e-04, -1.28929139e-03, -1.36374229e-04,\n",
       "          2.89721599e-04,  1.00507015e-03, -2.90666315e-04,  1.32428527e-04,\n",
       "         -3.04341100e-04, -7.93846599e-04, -5.13468075e-04,  7.89562421e-04,\n",
       "         -5.14329900e-04,  7.12024326e-04, -9.49178589e-04, -1.88759802e-03,\n",
       "          1.26312500e-03, -7.59242443e-04, -2.81079876e-04, -9.01079783e-04,\n",
       "         -3.69661275e-05,  3.24949007e-04,  1.03474207e-03, -3.76728105e-04,\n",
       "          3.30634577e-04, -1.18417258e-03, -3.00772589e-04, -4.62318043e-04,\n",
       "          1.69231445e-03, -8.06125744e-04, -8.13591657e-05,  1.17416043e-03,\n",
       "          8.02332275e-04, -8.30301515e-04, -5.76537104e-04,  8.92796303e-04,\n",
       "          1.36040717e-03,  4.34514985e-04, -1.65813438e-04,  4.05868853e-04,\n",
       "         -2.07080149e-03, -6.21744138e-04,  8.16041976e-04,  1.12213622e-03,\n",
       "          7.34469385e-04,  1.03459643e-03, -1.26770843e-03, -8.64425972e-04,\n",
       "          6.09124963e-04,  3.22739892e-04, -1.14826419e-03,  1.47133836e-04,\n",
       "         -4.25214044e-04, -1.54886742e-03,  4.84410344e-04,  9.40418004e-04,\n",
       "          3.96654489e-04, -1.19711090e-03, -3.38522236e-04,  2.18607762e-04,\n",
       "         -1.20157179e-03, -1.08310902e-04,  6.96593800e-04,  4.66349036e-04,\n",
       "          5.92762581e-04, -3.71596938e-04, -3.72720942e-04, -1.76873294e-04,\n",
       "          3.93223261e-04,  6.62193802e-04,  1.31970725e-03, -1.31946683e-03,\n",
       "         -2.07035455e-03, -1.41479896e-03,  1.60528578e-04,  7.55917422e-04,\n",
       "         -1.11113240e-03,  1.81416377e-03, -6.12203335e-04,  6.09272157e-04,\n",
       "          5.06142428e-05,  1.38512132e-03,  2.02199507e-04,  1.27713411e-03,\n",
       "          7.47806678e-04,  7.12265357e-04, -9.22252832e-04,  1.12518298e-03,\n",
       "          1.23910671e-03, -1.08290258e-03, -4.83992405e-04,  8.07020887e-04,\n",
       "         -2.14484453e-04, -5.28262696e-04,  9.63481750e-04, -4.65724779e-04,\n",
       "          6.14076715e-05,  6.45189291e-04,  6.86649270e-05, -1.14686253e-04,\n",
       "         -9.18913681e-04, -6.08071904e-05,  1.75516238e-04,  4.83468617e-04,\n",
       "         -9.60010799e-04,  1.69826810e-04,  1.49769178e-03, -9.11052740e-04,\n",
       "         -3.42201129e-04,  6.68564347e-04, -4.89199539e-04,  1.19998035e-04,\n",
       "          1.47933394e-04,  5.24850547e-04,  5.22506230e-04,  1.37554827e-03,\n",
       "         -9.60857736e-04, -5.42026706e-04,  6.57927608e-04,  4.22213909e-04,\n",
       "         -1.20726093e-03,  2.74370597e-04, -8.31942798e-05, -1.22694953e-04,\n",
       "          2.22754314e-03, -1.26749147e-03, -1.46099103e-03,  4.69750420e-04,\n",
       "         -6.42991325e-04,  1.28024237e-03, -2.20910617e-03, -7.97504845e-04,\n",
       "          5.27545632e-04, -1.30553709e-03, -1.97329915e-04,  1.18190063e-03,\n",
       "         -3.09657454e-04, -1.36292926e-03, -3.13396890e-04, -2.46130793e-04,\n",
       "         -6.42226439e-04,  2.56762185e-04, -1.09389022e-03,  2.94720224e-04,\n",
       "         -1.92281942e-03, -5.99703946e-04, -8.17638621e-04, -1.38176236e-03,\n",
       "         -3.07594204e-04, -9.97723593e-04, -7.86862711e-04,  1.98995770e-05,\n",
       "         -6.60962368e-04, -4.47260342e-04, -1.51116392e-03,  2.80468341e-04,\n",
       "          3.63914108e-04, -1.59819979e-03, -2.09779362e-03, -7.31271454e-04,\n",
       "          1.22929598e-03, -2.07631449e-03, -6.90205677e-04,  5.00360105e-04,\n",
       "          1.59336750e-03,  2.20891806e-04,  7.28085817e-04, -2.21929997e-04,\n",
       "         -1.05999125e-03,  6.25451807e-04, -5.28372697e-04, -9.61783343e-04,\n",
       "         -2.35638227e-04,  3.62326347e-04, -5.29512560e-04,  4.09528753e-04,\n",
       "         -5.30723676e-04, -7.66818528e-04,  1.34043776e-03, -1.16381577e-03,\n",
       "          1.95025176e-03, -5.81935547e-04,  6.68025292e-04, -1.32246169e-04,\n",
       "          7.08473918e-04,  1.67590012e-03,  4.41840472e-04, -1.20485566e-05,\n",
       "          7.61049344e-05,  2.59457390e-04, -1.07753079e-03,  7.40120348e-04,\n",
       "          2.93037154e-04,  1.88909257e-06, -2.20115144e-03, -1.08311679e-03,\n",
       "         -7.19674886e-04,  1.05173560e-03,  1.80826956e-03,  4.55403553e-05,\n",
       "         -4.86881365e-04, -1.06994494e-03,  2.65376633e-04, -8.86668817e-04,\n",
       "          4.49718847e-04, -4.18456003e-04, -4.71723026e-04, -5.15286770e-04,\n",
       "          5.28010201e-05,  6.12548378e-04,  9.01524893e-04,  1.29964324e-04,\n",
       "          1.23253354e-03, -1.57852423e-03,  1.32970417e-03,  7.84271001e-04,\n",
       "          1.84465828e-03, -1.16983909e-03, -5.45601725e-04,  1.67061703e-04,\n",
       "         -6.43439623e-04,  1.63315881e-03, -3.60109950e-05,  1.26512249e-03,\n",
       "         -6.94415656e-04, -1.47187151e-04,  7.57828051e-04, -4.59866559e-04,\n",
       "          1.41246708e-03,  5.32878705e-04,  1.01604572e-04, -2.79464562e-04,\n",
       "          6.91595173e-05,  1.59354719e-03,  1.08277417e-03,  3.13106882e-04,\n",
       "         -1.52366296e-03, -8.29543312e-05, -4.96820181e-04, -1.89862415e-04,\n",
       "         -2.93092301e-03,  2.91045859e-06,  7.49182156e-04, -4.54098913e-04,\n",
       "         -3.21474819e-04,  4.25372084e-05,  8.58914337e-04, -1.75085150e-03,\n",
       "          6.13838983e-04, -3.95058319e-04,  1.21290931e-03, -1.54125821e-03,\n",
       "         -3.04125533e-04, -8.20087631e-06,  2.04260590e-03, -1.23497141e-03,\n",
       "         -7.04335283e-04,  1.50051799e-03, -1.06503096e-03, -4.07318437e-04,\n",
       "          3.24491737e-04,  1.28000227e-03, -1.05406946e-03, -6.78141688e-04,\n",
       "         -1.73019521e-03, -1.28482784e-03,  3.64290355e-04,  8.83210442e-04,\n",
       "         -2.69619517e-04,  1.32142050e-03, -6.36956150e-05, -1.01744451e-03,\n",
       "          7.61255485e-04, -1.47989295e-03,  1.91081446e-03, -1.47009600e-03,\n",
       "         -1.69014222e-04,  6.09108591e-04,  1.74633347e-03, -6.49811034e-04,\n",
       "          5.59422269e-04, -6.66802602e-04, -8.94651445e-04, -5.81269489e-04,\n",
       "          3.21472393e-04, -4.76216125e-04,  5.55361810e-04,  2.62790944e-04,\n",
       "          8.62757127e-05, -3.48920488e-04, -8.54573070e-04,  9.51959799e-04,\n",
       "          2.74733875e-04, -6.86749617e-04, -1.38761940e-03,  4.64745718e-04,\n",
       "          1.17334925e-04,  2.26998546e-03, -3.81581456e-05, -1.34871503e-04,\n",
       "          7.86678964e-04,  5.34864175e-04,  1.12528019e-03,  4.25497470e-05,\n",
       "         -1.08897311e-03,  3.95133644e-04, -2.19798242e-04,  1.09855030e-03,\n",
       "         -4.20633063e-04,  5.65138491e-04,  4.57166697e-04, -1.23258970e-03,\n",
       "          2.19033673e-04, -1.38398295e-03,  1.10870126e-03, -1.54692253e-03,\n",
       "         -1.44938912e-03,  1.25037590e-03, -7.49532876e-04,  2.28177442e-03,\n",
       "          4.76804356e-04, -2.37477738e-03, -5.45132876e-04,  1.85716636e-03,\n",
       "          2.31014997e-04, -4.61975885e-04, -2.47698034e-04,  1.44441361e-03,\n",
       "          1.56078104e-04, -2.30462326e-04,  8.86450318e-04,  2.63720070e-03,\n",
       "          8.97070141e-04, -1.33713379e-03, -7.64136696e-04,  1.23562929e-03,\n",
       "          5.06741167e-04, -9.10004296e-04, -1.15785296e-03,  1.03399021e-03,\n",
       "          4.49107162e-04, -1.20972375e-04,  1.45921684e-04,  1.46026323e-03,\n",
       "          5.32904523e-04, -7.63003811e-04, -7.15027568e-04, -4.30465475e-04,\n",
       "          7.78467542e-04,  1.61377946e-03, -9.54693886e-04, -3.09315397e-03,\n",
       "         -7.10913431e-04, -2.86823537e-04, -4.66572393e-05, -5.09546910e-05,\n",
       "         -4.98791354e-04,  8.28264640e-05, -9.74094246e-04, -2.68863798e-04,\n",
       "         -7.97478890e-04, -4.21490155e-04, -2.64127890e-04,  6.31273993e-05,\n",
       "         -4.23993224e-04, -2.07470892e-03,  1.78340354e-03,  2.21662334e-04,\n",
       "         -1.11689235e-03,  1.07790584e-03, -2.32215416e-04, -2.48002346e-05,\n",
       "         -9.29868285e-04, -4.90708328e-04,  2.31237493e-03,  7.57869645e-04,\n",
       "          1.46011136e-03, -5.13541049e-04,  9.51024176e-04,  3.35069137e-04,\n",
       "          1.50113957e-04,  3.59982617e-04, -6.42626899e-04,  1.71088062e-03,\n",
       "         -6.77230509e-05, -8.67686334e-04, -1.38771629e-03,  2.13402997e-04,\n",
       "         -1.71074067e-03, -7.33672677e-04, -6.14165784e-05,  3.51102165e-04,\n",
       "         -1.40390702e-03, -5.47832349e-04, -1.58108045e-03,  1.10530725e-03,\n",
       "         -5.83033357e-04,  2.25943033e-04,  5.05346311e-05, -9.19598043e-04,\n",
       "         -1.11929483e-03,  3.10453097e-04,  2.59157819e-04,  4.97586849e-04,\n",
       "         -7.94343380e-04, -9.97485289e-04,  1.70752289e-03, -1.94617542e-03,\n",
       "          2.64260638e-04,  8.52446510e-05,  1.87902738e-03, -4.36168135e-04,\n",
       "          6.17092258e-04,  3.96174237e-04,  8.80007803e-04, -3.70467013e-05,\n",
       "          8.09675690e-04, -1.82457381e-03, -3.08634411e-04,  7.31394246e-04,\n",
       "          9.61767900e-04,  5.22135155e-04, -7.22705545e-04, -7.93099938e-05,\n",
       "         -2.10620524e-04,  9.59789197e-04, -2.30574447e-03,  1.78886305e-03,\n",
       "          1.01012232e-03,  5.27689055e-05,  1.06083927e-04,  2.52348640e-04,\n",
       "         -2.80099268e-03, -3.08228557e-04,  1.08363550e-03, -4.15479517e-05,\n",
       "          6.93462582e-04,  6.12455416e-04, -1.08091883e-03, -1.04074935e-03,\n",
       "          8.91874102e-04,  1.57636399e-03,  5.28454835e-04, -3.51544632e-04,\n",
       "         -6.01621146e-04, -1.17023756e-03, -4.64936927e-04,  1.44233315e-03,\n",
       "         -3.70207084e-04,  3.79825343e-04, -1.97942260e-05, -4.32569763e-04,\n",
       "         -4.68091182e-04,  5.87456603e-04,  1.56542227e-04, -2.68876495e-04,\n",
       "          6.56134852e-04, -2.53269805e-04,  4.56078358e-04, -8.12508640e-04,\n",
       "          2.20030491e-03, -2.56987874e-04, -2.99441856e-04, -1.43118780e-03,\n",
       "          1.17000701e-03, -2.41892375e-04,  5.64708424e-04,  6.69703686e-04,\n",
       "          1.11725928e-03,  2.69295711e-04, -1.30609208e-03, -2.81080868e-05,\n",
       "         -1.44219469e-03, -2.53251219e-04, -4.75410070e-04,  7.27964383e-04,\n",
       "          6.60078792e-04, -2.87444795e-04, -4.22428575e-04, -4.44073053e-04,\n",
       "          1.75244529e-04,  1.04056869e-03, -1.99789941e-03, -2.12934533e-03,\n",
       "          1.63679362e-03,  6.32193710e-04,  1.37665061e-03, -6.88783027e-04,\n",
       "          7.71269660e-04, -1.12141038e-03,  1.68581856e-03, -1.44378319e-03,\n",
       "         -6.87494609e-04,  9.44203768e-04,  1.20364224e-03,  1.34782654e-03,\n",
       "         -9.36172183e-04,  9.19895445e-04,  2.40488252e-04,  6.05002192e-04,\n",
       "          1.26186236e-03,  1.49772810e-04, -9.60050032e-04, -1.96213319e-03,\n",
       "          8.21660444e-04,  2.20090169e-04,  1.44440950e-03,  9.14597301e-04,\n",
       "          2.30754323e-04, -5.15232933e-04,  6.19693302e-05,  1.09926012e-03,\n",
       "          1.15011479e-04,  9.45441979e-04,  1.50670935e-04, -9.08795784e-04,\n",
       "         -1.75282135e-03, -1.45464629e-03,  1.32410341e-03, -1.83359986e-03,\n",
       "         -1.33097575e-03, -2.42428397e-03,  4.90893662e-04,  1.56422770e-04,\n",
       "          1.11484794e-03, -9.73490391e-04, -7.13802975e-04, -4.40662168e-06,\n",
       "          2.49667924e-04,  1.28416437e-03,  4.32201670e-04,  1.37560380e-03,\n",
       "         -7.27481045e-04, -5.40337636e-04, -1.08930737e-03, -1.34260932e-03,\n",
       "         -1.63988364e-03,  1.61714444e-03, -1.46549345e-03,  4.36064821e-04,\n",
       "         -7.54357477e-04, -1.99774095e-04, -5.03491194e-04, -2.85660512e-04,\n",
       "          4.23741476e-04,  4.63708380e-05,  2.22194700e-05, -1.73489777e-03,\n",
       "         -2.94878379e-04,  9.73163904e-04, -2.02124330e-03,  1.17012815e-03,\n",
       "         -1.58523979e-03, -1.36113578e-03, -8.21744228e-04, -8.70690508e-05,\n",
       "          3.10721747e-03, -2.97658533e-04,  5.86899590e-04,  2.76527892e-05,\n",
       "         -4.67124827e-06, -6.48999400e-04, -4.69197302e-04, -1.55336702e-04,\n",
       "         -8.57606912e-04,  1.70984706e-03,  7.18947706e-04,  1.12137543e-04,\n",
       "          1.79603896e-03,  3.09260038e-04,  1.03425869e-03, -6.63354423e-04,\n",
       "         -1.16664438e-03,  4.16451805e-04, -2.13658484e-03,  7.90213271e-04,\n",
       "         -8.46883752e-04,  2.82900345e-04, -5.85377628e-04, -1.09388771e-03,\n",
       "          1.52387918e-03,  6.14120551e-04, -8.63133493e-04, -4.71833417e-04,\n",
       "         -2.01063070e-04,  1.69702292e-03, -1.03421967e-03, -4.49842426e-04,\n",
       "          2.94486810e-04, -5.12311455e-04,  3.84812417e-04,  1.81582535e-03,\n",
       "          3.78639172e-04,  1.96431886e-04, -1.49217103e-03,  1.33280482e-03,\n",
       "          1.04813688e-03, -6.59349534e-04,  2.17659367e-03,  6.75963423e-04,\n",
       "          1.63505854e-03,  7.00952306e-04,  9.49759831e-04, -6.09800553e-04,\n",
       "         -2.11884586e-04, -7.90866865e-04, -2.09173054e-04, -2.99864633e-04])},\n",
       " {'b': array([-0.00155946,  0.01108506, -0.00476935,  0.00158423,  0.00412026,\n",
       "         -0.01240589, -0.00704657,  0.00449876, -0.00211147,  0.00660443]),\n",
       "  'w': array([[-0.02118318,  0.004156  , -0.0274224 , ..., -0.03207712,\n",
       "           0.03809746,  0.00054835],\n",
       "         [-0.0556805 ,  0.07916846, -0.0042791 , ...,  0.01227199,\n",
       "           0.00076824, -0.03843086],\n",
       "         [ 0.07677972,  0.0126366 , -0.02242553, ...,  0.01408135,\n",
       "          -0.01420088, -0.00608527],\n",
       "         ...,\n",
       "         [ 0.07497393, -0.02680263,  0.04861374, ...,  0.00513117,\n",
       "           0.01741814, -0.00188804],\n",
       "         [-0.03354295, -0.00329004, -0.07302283, ...,  0.07841503,\n",
       "          -0.02367492, -0.02412151],\n",
       "         [ 0.0118582 , -0.02817546, -0.08060993, ..., -0.08174137,\n",
       "           0.0208328 , -0.0437463 ]])}]"
      ]
     },
     "execution_count": 35,
     "metadata": {},
     "output_type": "execute_result"
    }
   ],
   "source": [
    "combine_parameters(parameters, train_batch(0, parameters), 1)"
   ]
  },
  {
   "cell_type": "code",
   "execution_count": 36,
   "metadata": {},
   "outputs": [],
   "source": [
    "parameters = init_parameters()"
   ]
  },
  {
   "cell_type": "code",
   "execution_count": 37,
   "metadata": {},
   "outputs": [
    {
     "name": "stdout",
     "output_type": "stream",
     "text": [
      "validation accuracy: 0.0719\n"
     ]
    }
   ],
   "source": [
    "valid_accuracy(parameters)"
   ]
  },
  {
   "cell_type": "code",
   "execution_count": 38,
   "metadata": {},
   "outputs": [
    {
     "name": "stdout",
     "output_type": "stream",
     "text": [
      "running batch: 0 / 500\n",
      "running batch: 100 / 500\n",
      "running batch: 200 / 500\n",
      "running batch: 300 / 500\n",
      "running batch: 400 / 500\n",
      "done.\n",
      "validation accuracy: 0.9157\n"
     ]
    }
   ],
   "source": [
    "# 设置学习率为1\n",
    "learn_rate = 1\n",
    "# 开始训练\n",
    "for i in range(train_num // batch_size):\n",
    "    if not i % 100:\n",
    "        print(f'running batch: {i} / {train_num // batch_size}')\n",
    "    # 求每个参数的梯度\n",
    "    grad_tmp = train_batch(i, parameters)\n",
    "    # 将梯度和学习率作用在参数上实现梯度下降\n",
    "    parameters = combine_parameters(parameters, grad_tmp, learn_rate)\n",
    "print('done.')\n",
    "valid_accuracy(parameters)"
   ]
  },
  {
   "cell_type": "code",
   "execution_count": 61,
   "metadata": {},
   "outputs": [
    {
     "name": "stdout",
     "output_type": "stream",
     "text": [
      "predict result: 6\n",
      "label: 6\n"
     ]
    },
    {
     "data": {
      "image/png": "[encoded data removed]",
      "text/plain": [
       "<Figure size 432x288 with 1 Axes>"
      ]
     },
     "metadata": {
      "needs_background": "light"
     },
     "output_type": "display_data"
    }
   ],
   "source": [
    "# 验证训练结果\n",
    "selected_index = np.random.randint(valid_num)\n",
    "# 输入图片需要扁平化，输出是（类似）独热的，因为学习的是它向独热靠近的过程，所以取下标最大的就是结果\n",
    "predres = predict(valid_img[selected_index].flatten(), parameters).argmax()\n",
    "# 返回预测值\n",
    "print(f'predict result: {predres}')\n",
    "# 返回真实值和图片\n",
    "show_valid(selected_index)"
   ]
  },
  {
   "cell_type": "code",
   "execution_count": null,
   "metadata": {},
   "outputs": [],
   "source": []
  },
  {
   "cell_type": "code",
   "execution_count": null,
   "metadata": {},
   "outputs": [],
   "source": []
  }
 ],
 "metadata": {
  "kernelspec": {
   "display_name": "Python 3",
   "language": "python",
   "name": "python3"
  },
  "language_info": {
   "codemirror_mode": {
    "name": "ipython",
    "version": 3
   },
   "file_extension": ".py",
   "mimetype": "text/x-python",
   "name": "python",
   "nbconvert_exporter": "python",
   "pygments_lexer": "ipython3",
   "version": "3.7.4"
  }
 },
 "nbformat": 4,
 "nbformat_minor": 2
}
